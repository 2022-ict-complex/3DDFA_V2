{
 "cells": [
  {
   "cell_type": "code",
   "execution_count": 1,
   "metadata": {},
   "outputs": [],
   "source": [
    "target_image = 'sample_pics/G1.png'\n",
    "src_dir_path = 'sample_pics'"
   ]
  },
  {
   "cell_type": "markdown",
   "metadata": {},
   "source": [
    "---"
   ]
  },
  {
   "cell_type": "code",
   "execution_count": 2,
   "metadata": {},
   "outputs": [],
   "source": [
    "import sys\n",
    "import argparse\n",
    "import cv2\n",
    "import yaml\n",
    "import numpy as np\n",
    "import os\n",
    "import os.path as pth\n",
    "\n",
    "from FaceBoxes import FaceBoxes\n",
    "from TDDFA import TDDFA\n",
    "\n",
    "from utils.functions import get_suffix\n",
    "from utils.pose import calc_pose"
   ]
  },
  {
   "cell_type": "code",
   "execution_count": null,
   "metadata": {},
   "outputs": [],
   "source": []
  },
  {
   "cell_type": "code",
   "execution_count": 3,
   "metadata": {},
   "outputs": [],
   "source": [
    "config = 'configs/mb1_120x120.yml'\n",
    "onnx = True\n",
    "mode = 'cpu'"
   ]
  },
  {
   "cell_type": "code",
   "execution_count": 4,
   "metadata": {},
   "outputs": [],
   "source": [
    "cfg = yaml.load(open(config), Loader=yaml.SafeLoader)\n",
    "\n",
    "if onnx:\n",
    "    import os\n",
    "    os.environ['KMP_DUPLICATE_LIB_OK'] = 'True'\n",
    "    os.environ['OMP_NUM_THREADS'] = '4'\n",
    "\n",
    "    from FaceBoxes.FaceBoxes_ONNX import FaceBoxes_ONNX\n",
    "    from TDDFA_ONNX import TDDFA_ONNX\n",
    "\n",
    "    face_boxes = FaceBoxes_ONNX()\n",
    "    tddfa = TDDFA_ONNX(**cfg)\n",
    "else:\n",
    "    gpu_mode = mode == 'gpu'\n",
    "    tddfa = TDDFA(gpu_mode=gpu_mode, **cfg)\n",
    "    face_boxes = FaceBoxes()"
   ]
  },
  {
   "cell_type": "code",
   "execution_count": 5,
   "metadata": {},
   "outputs": [],
   "source": [
    "def get_pose_ypr(img_fp, tddfa):\n",
    "    img = cv2.imread(img_fp)\n",
    "\n",
    "    boxes = face_boxes(img)\n",
    "    n = len(boxes)\n",
    "    if n == 0:\n",
    "        print(f'No face detected, exit')\n",
    "        sys.exit(-1)\n",
    "\n",
    "    area_list = [(x2-x1)*(y2-x2) for x1, y1, x2, y2, _ in boxes]\n",
    "    largest_area_idx = np.argmax(area_list)\n",
    "\n",
    "    param_lst, roi_box_lst = tddfa(img, [boxes[largest_area_idx]])\n",
    "    P, pose = calc_pose(param_lst[0])\n",
    "    \n",
    "    return pose # yaw, pitch, roll\n",
    "\n",
    "\n",
    "def extract_pose(target_image):\n",
    "    return get_pose_ypr(target_image, tddfa)"
   ]
  },
  {
   "cell_type": "code",
   "execution_count": 6,
   "metadata": {},
   "outputs": [],
   "source": [
    "target_pose_array = np.array(extract_pose(target_image))\n",
    "\n",
    "src_path_array = np.array([\n",
    "    pth.join(src_dir_path, each_file) for each_file in os.listdir(src_dir_path) \n",
    "        if each_file.lower().endswith('.png') or each_file.lower().endswith('.jpg')\n",
    "])\n",
    "src_poses_array = np.array([extract_pose(src_path) for src_path in src_path_array])\n",
    "\n",
    "mse_dist_array = ((src_poses_array-target_pose_array)**2).mean(axis=1)"
   ]
  },
  {
   "cell_type": "code",
   "execution_count": 7,
   "metadata": {},
   "outputs": [],
   "source": [
    "top10_close_filename_list = src_path_array[np.argsort(mse_dist_array)][:10]"
   ]
  },
  {
   "cell_type": "code",
   "execution_count": 8,
   "metadata": {},
   "outputs": [
    {
     "data": {
      "text/plain": [
       "array(['sample_pics/G1.png', 'sample_pics/G3.png', 'sample_pics/G5.png',\n",
       "       'sample_pics/G2.png', 'sample_pics/G8.png', 'sample_pics/G7.png',\n",
       "       'sample_pics/G6.png', 'sample_pics/G4.png', 'sample_pics/G9.png',\n",
       "       'sample_pics/G11.png'], dtype='<U19')"
      ]
     },
     "execution_count": 8,
     "metadata": {},
     "output_type": "execute_result"
    }
   ],
   "source": [
    "top10_close_filename_list"
   ]
  },
  {
   "cell_type": "code",
   "execution_count": null,
   "metadata": {},
   "outputs": [],
   "source": []
  }
 ],
 "metadata": {
  "kernelspec": {
   "display_name": "Python 3 (ipykernel)",
   "language": "python",
   "name": "python3"
  },
  "language_info": {
   "codemirror_mode": {
    "name": "ipython",
    "version": 3
   },
   "file_extension": ".py",
   "mimetype": "text/x-python",
   "name": "python",
   "nbconvert_exporter": "python",
   "pygments_lexer": "ipython3",
   "version": "3.8.12"
  }
 },
 "nbformat": 4,
 "nbformat_minor": 4
}
